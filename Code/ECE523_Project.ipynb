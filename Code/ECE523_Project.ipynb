{
 "cells": [
  {
   "cell_type": "code",
   "execution_count": 1,
   "id": "f8fed4a9",
   "metadata": {},
   "outputs": [],
   "source": [
    "from transformers import BertTokenizerFast\n",
    "from ast import literal_eval\n",
    "import pandas as pd\n",
    "import re"
   ]
  },
  {
   "cell_type": "code",
   "execution_count": 2,
   "id": "f1a941a5",
   "metadata": {},
   "outputs": [],
   "source": [
    "class Preprocessing:\n",
    "    def __init__(self):\n",
    "        return\n",
    "\n",
    "    def organizeData(self, featuresFile, patientNotesFile, trainFile):\n",
    "        self.fDF = pd.read_csv(featuresFile)\n",
    "        self.pnDF = pd.read_csv(patientNotesFile)\n",
    "        self.tDF = pd.read_csv(trainFile)\n",
    "\n",
    "        self.tDF['annotation'] = self.tDF['annotation'].apply(literal_eval)\n",
    "        self.tDF['location'] = self.tDF['location'].apply(literal_eval)\n",
    "\n",
    "        self.removeORs()\n",
    "        self.removeSpecialChars()\n",
    "\n",
    "    def removeORs(self):\n",
    "        self.fDF['feature_text'].apply(lambda x: x.lower())\n",
    "        for i in range(len(self.fDF['feature_text'])):\n",
    "            self.fDF.at[i, 'feature_text'] = self.fDF['feature_text'][i].replace(\"-OR-\", \";-\").replace(\"-\", \" \")\n",
    "\n",
    "    def removeSpecialChars(self):\n",
    "        self.pnDF['pn_history'].apply(lambda x: x.lower())\n",
    "        for i in range(len(self.pnDF['pn_history'])):\n",
    "            self.pnDF.at[i, 'pn_history'] = self.pnDF['pn_history'][i].replace(\"(\", \" \")\n",
    "            self.pnDF.at[i, 'pn_history'] = self.pnDF['pn_history'][i].replace(\")\", \" \")\n",
    "            self.pnDF.at[i, 'pn_history'] = self.pnDF['pn_history'][i].replace(\":\", \" \")\n",
    "            self.pnDF.at[i, 'pn_history'] = self.pnDF['pn_history'][i].replace(\";\", \" \")\n",
    "            self.pnDF.at[i, 'pn_history'] = self.pnDF['pn_history'][i].replace(\"-\", \" \")\n",
    "            self.pnDF.at[i, 'pn_history'] = self.pnDF['pn_history'][i].replace(\"/\", \" \")\n",
    "            self.pnDF.at[i, 'pn_history'] = self.pnDF['pn_history'][i].replace(\"\\\\\", \" \")\n",
    "            self.pnDF.at[i, 'pn_history'] = self.pnDF['pn_history'][i].replace(\"\\'\", \"\")\n",
    "            self.pnDF.at[i, 'pn_history'] = self.pnDF['pn_history'][i].replace(\"\\\"\", \"\")\n",
    "            self.pnDF.at[i, 'pn_history'] = self.pnDF['pn_history'][i].replace(\",\", \" \")\n",
    "            self.pnDF.at[i, 'pn_history'] = self.pnDF['pn_history'][i].replace(\".\", \" \")\n",
    "            self.pnDF.at[i, 'pn_history'] = re.sub(r'\\bzero\\b', '0', self.pnDF['pn_history'][i])\n",
    "            self.pnDF.at[i, 'pn_history'] = re.sub(r'\\bone\\b', '1', self.pnDF['pn_history'][i])\n",
    "            self.pnDF.at[i, 'pn_history'] = re.sub(r'\\btwo\\b', '2', self.pnDF['pn_history'][i])\n",
    "            self.pnDF.at[i, 'pn_history'] = re.sub(r'\\bthree\\b', '3', self.pnDF['pn_history'][i])\n",
    "            self.pnDF.at[i, 'pn_history'] = re.sub(r'\\bfour\\b', '4', self.pnDF['pn_history'][i])\n",
    "            self.pnDF.at[i, 'pn_history'] = re.sub(r'\\bfive\\b', '5', self.pnDF['pn_history'][i])\n",
    "            self.pnDF.at[i, 'pn_history'] = re.sub(r'\\bsix\\b', '6', self.pnDF['pn_history'][i])\n",
    "            self.pnDF.at[i, 'pn_history'] = re.sub(r'\\bseven\\b', '7', self.pnDF['pn_history'][i])\n",
    "            self.pnDF.at[i, 'pn_history'] = re.sub(r'\\beight\\b', '8', self.pnDF['pn_history'][i])\n",
    "            self.pnDF.at[i, 'pn_history'] = re.sub(r'\\bnine\\b', '9', self.pnDF['pn_history'][i])"
   ]
  },
  {
   "cell_type": "code",
   "execution_count": 3,
   "id": "06ff06f8",
   "metadata": {},
   "outputs": [
    {
     "name": "stdout",
     "output_type": "stream",
     "text": [
      "Family history of MI; Family history of myocardial infarction\n",
      "17 year old male  has come to the student health clinic complaining of heart pounding  Mr  Clevelands mother has given verbal consent for a history  physical examination  and treatment\r\n",
      " began 2 3 months ago sudden intermittent for 2 days lasting 3 4 min  worsening non allev aggrav\r\n",
      " associated with dispnea on exersion and rest stressed out about school\r\n",
      " reports fe feels like his heart is jumping out of his chest\r\n",
      " ros denies chest pain dyaphoresis wt loss chills fever nausea vomiting pedal edeam\r\n",
      " pmh non meds  aderol  from a friend  nkda\r\n",
      " fh father had MI recently mother has thyroid dz\r\n",
      " sh non smoker mariguana 5 6 months ago 3 beers on the weekend  basketball at school\r\n",
      " sh no std\n"
     ]
    }
   ],
   "source": [
    "featuresFile = \"..\\\\CSVs\\\\features.csv\"\n",
    "patientNotesFile = \"..\\\\CSVs\\\\patient_notes.csv\"\n",
    "trainFile = \"..\\\\CSVs\\\\train.csv\"\n",
    "\n",
    "prep = Preprocessing()\n",
    "prep.organizeData(featuresFile, patientNotesFile, trainFile)\n",
    "\n",
    "print(prep.fDF['feature_text'][0])\n",
    "print(prep.pnDF['pn_history'][0])"
   ]
  },
  {
   "cell_type": "code",
   "execution_count": 4,
   "id": "ea2eb6f7",
   "metadata": {},
   "outputs": [
    {
     "name": "stdout",
     "output_type": "stream",
     "text": [
      "Total Tokens 162\n",
      "['family', 'history', 'of', 'mi', ';', 'family', 'history', 'of', 'my', '##oca', '##rdial', 'in', '##far', '##ction', '17', 'year', 'old', 'male', 'has', 'come', 'to', 'the', 'student', 'health', 'clinic', 'complaining', 'of', 'heart', 'pounding', 'mr', 'cleveland', '##s', 'mother', 'has', 'given', 'verbal', 'consent', 'for', 'a', 'history', 'physical', 'examination', 'and', 'treatment', 'began', '2', '3', 'months', 'ago', 'sudden', 'intermittent', 'for', '2', 'days', 'lasting', '3', '4', 'min', 'worse', '##ning', 'non', 'all', '##ev', 'ag', '##gra', '##v', 'associated', 'with', 'di', '##sp', '##nea', 'on', 'ex', '##ers', '##ion', 'and', 'rest', 'stressed', 'out', 'about', 'school', 'reports', 'fe', 'feels', 'like', 'his', 'heart', 'is', 'jumping', 'out', 'of', 'his', 'chest', 'ro', '##s', 'denies', 'chest', 'pain', 'd', '##ya', '##ph', '##ores', '##is', 'w', '##t', 'loss', 'chill', '##s', 'fever', 'nausea', 'vomiting', 'pedal', 'ed', '##ea', '##m', 'pm', '##h', 'non', 'med', '##s', 'ad', '##ero', '##l', 'from', 'a', 'friend', 'nk', '##da', 'f', '##h', 'father', 'had', 'mi', 'recently', 'mother', 'has', 'thyroid', 'd', '##z', 'sh', 'non', 'smoke', '##r', 'mari', '##gua', '##na', '5', '6', 'months', 'ago', '3', 'beers', 'on', 'the', 'weekend', 'basketball', 'at', 'school', 'sh', 'no', 'st', '##d']\n"
     ]
    }
   ],
   "source": [
    "tokenizer = BertTokenizerFast.from_pretrained(\"bert-base-uncased\")\n",
    "tokens = tokenizer.tokenize(prep.fDF['feature_text'][0], prep.pnDF['pn_history'][0])\n",
    "\n",
    "print(\"Total Tokens\", len(tokens))\n",
    "print(tokens)"
   ]
  },
  {
   "cell_type": "code",
   "execution_count": null,
   "id": "c3395b0a",
   "metadata": {},
   "outputs": [],
   "source": []
  }
 ],
 "metadata": {
  "kernelspec": {
   "display_name": "Python 3",
   "language": "python",
   "name": "python3"
  },
  "language_info": {
   "codemirror_mode": {
    "name": "ipython",
    "version": 3
   },
   "file_extension": ".py",
   "mimetype": "text/x-python",
   "name": "python",
   "nbconvert_exporter": "python",
   "pygments_lexer": "ipython3",
   "version": "3.7.11"
  }
 },
 "nbformat": 4,
 "nbformat_minor": 5
}
